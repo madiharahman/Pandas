{
 "cells": [
  {
   "cell_type": "markdown",
   "id": "bb2ad263-1272-4ca9-80d0-2ebe240b5faf",
   "metadata": {},
   "source": [
    "1. Create a Pandas Series that contains the following data: 4, 8, 15, 16, 23, and 42. Then, print the series."
   ]
  },
  {
   "cell_type": "code",
   "execution_count": 1,
   "id": "78f330f0-5e39-4c1c-9dc7-4b7300637fcf",
   "metadata": {},
   "outputs": [
    {
     "data": {
      "text/plain": [
       "0     4\n",
       "1     8\n",
       "2    15\n",
       "3    16\n",
       "4    23\n",
       "5    42\n",
       "dtype: int64"
      ]
     },
     "execution_count": 1,
     "metadata": {},
     "output_type": "execute_result"
    }
   ],
   "source": [
    "import pandas as pd\n",
    "s = pd.Series([4, 8, 15, 16, 23,42])\n",
    "s"
   ]
  },
  {
   "cell_type": "markdown",
   "id": "0f5c42cf-e5ca-41fa-82a5-36c42aea4bd0",
   "metadata": {},
   "source": [
    "2. Create a variable of list type containing 10 elements in it, and apply pandas.Series function on the variable print it."
   ]
  },
  {
   "cell_type": "code",
   "execution_count": 2,
   "id": "866f3844-1fd5-4255-8d27-5db42066000e",
   "metadata": {},
   "outputs": [
    {
     "data": {
      "text/plain": [
       "0    m\n",
       "1    a\n",
       "2    d\n",
       "3    i\n",
       "4    h\n",
       "5    a\n",
       "6    1\n",
       "7    9\n",
       "8    8\n",
       "9    7\n",
       "dtype: object"
      ]
     },
     "execution_count": 2,
     "metadata": {},
     "output_type": "execute_result"
    }
   ],
   "source": [
    "list = ['m','a','d','i','h','a',1,9,8,7]\n",
    "s1 = pd.Series(list)\n",
    "s1"
   ]
  },
  {
   "cell_type": "markdown",
   "id": "b2247106-ff4e-45c2-8fac-3a10697e05a9",
   "metadata": {},
   "source": [
    "3. Create a Pandas DataFrame that contains the following data, Then, print the DataFrame."
   ]
  },
  {
   "cell_type": "code",
   "execution_count": 5,
   "id": "699a121c-9f3b-4f84-9cb9-8134bd7807e9",
   "metadata": {},
   "outputs": [
    {
     "data": {
      "text/html": [
       "<div>\n",
       "<style scoped>\n",
       "    .dataframe tbody tr th:only-of-type {\n",
       "        vertical-align: middle;\n",
       "    }\n",
       "\n",
       "    .dataframe tbody tr th {\n",
       "        vertical-align: top;\n",
       "    }\n",
       "\n",
       "    .dataframe thead th {\n",
       "        text-align: right;\n",
       "    }\n",
       "</style>\n",
       "<table border=\"1\" class=\"dataframe\">\n",
       "  <thead>\n",
       "    <tr style=\"text-align: right;\">\n",
       "      <th></th>\n",
       "      <th>Name</th>\n",
       "      <th>Age</th>\n",
       "      <th>Gender</th>\n",
       "    </tr>\n",
       "  </thead>\n",
       "  <tbody>\n",
       "    <tr>\n",
       "      <th>0</th>\n",
       "      <td>Alice</td>\n",
       "      <td>25</td>\n",
       "      <td>Female</td>\n",
       "    </tr>\n",
       "    <tr>\n",
       "      <th>1</th>\n",
       "      <td>Bob</td>\n",
       "      <td>30</td>\n",
       "      <td>Male</td>\n",
       "    </tr>\n",
       "    <tr>\n",
       "      <th>2</th>\n",
       "      <td>Claire</td>\n",
       "      <td>27</td>\n",
       "      <td>Female</td>\n",
       "    </tr>\n",
       "  </tbody>\n",
       "</table>\n",
       "</div>"
      ],
      "text/plain": [
       "     Name  Age  Gender\n",
       "0   Alice   25  Female\n",
       "1     Bob   30    Male\n",
       "2  Claire   27  Female"
      ]
     },
     "execution_count": 5,
     "metadata": {},
     "output_type": "execute_result"
    }
   ],
   "source": [
    "dic = {'Name': ['Alice', 'Bob', 'Claire'],\n",
    "        'Age': [25, 30, 27],\n",
    "        'Gender': ['Female', 'Male', 'Female']}\n",
    "s3 = pd.DataFrame(dic)\n",
    "s3"
   ]
  },
  {
   "cell_type": "markdown",
   "id": "35f1c4af-cb69-4ce1-97aa-0b81f2b5ab58",
   "metadata": {},
   "source": [
    "4. What is ‘DataFrame’ in pandas and how is it different from pandas.series? Explain with an example."
   ]
  },
  {
   "cell_type": "code",
   "execution_count": 16,
   "id": "73858030-13fe-4086-8b18-cdf56c90b156",
   "metadata": {},
   "outputs": [
    {
     "name": "stdout",
     "output_type": "stream",
     "text": [
      "     Name  Age  Gender\n",
      "0   Alice   25  Female\n",
      "1     Bob   30    Male\n",
      "2  Claire   27  Female\n"
     ]
    },
    {
     "data": {
      "text/plain": [
       "0     Alice\n",
       "1       Bob\n",
       "2    Claire\n",
       "Name: Name, dtype: object"
      ]
     },
     "execution_count": 16,
     "metadata": {},
     "output_type": "execute_result"
    }
   ],
   "source": [
    "'''In Pandas, a DataFrame is a 2-dimensional labeled data structure with columns of potentially \n",
    "different types. It is similar to a spreadsheet or a SQL table, and can be thought of as a collection \n",
    "of Pandas Series that share the same index.\n",
    "\n",
    "The key differences between a Pandas Series and a DataFrame is: a Series is a one-dimensional array-like \n",
    "object that can hold any data type, while a DataFrame is a two-dimensional table-like data structure that\n",
    "can hold multiple Series of different data types.'''\n",
    "\n",
    "dic = {'Name': ['Alice', 'Bob', 'Claire'],\n",
    "        'Age': [25, 30, 27],\n",
    "        'Gender': ['Female', 'Male', 'Female']}\n",
    "s3 = pd.DataFrame(dic)\n",
    "print(s3)\n",
    "\n",
    "'''In this example, the DataFrame has three columns (Name, Age, and Gender) and three rows\n",
    "(corresponding to each person). Each column is a Series, and they share the same index (0, 1, and 2). \n",
    "We can access each column by using its label.'''\n",
    "\n",
    "Names = s3['Name']\n",
    "Ages = s3['Age']\n",
    "Genders = s3['Gender']\n",
    "\n",
    "#Each of these variables (names, ages, and genders) will be a Series object with its own index and values.\n",
    "Names"
   ]
  },
  {
   "cell_type": "markdown",
   "id": "b1fc6113-4b05-46d4-8559-a08e910abaef",
   "metadata": {},
   "source": [
    "5. What are some common functions you can use to manipulate data in a Pandas DataFrame? Can you give an example of when you might use one of these functions?"
   ]
  },
  {
   "cell_type": "code",
   "execution_count": 19,
   "id": "e7f094a6-9790-416b-9df6-b7cbe7f82a27",
   "metadata": {},
   "outputs": [
    {
     "name": "stdout",
     "output_type": "stream",
     "text": [
      "     Name  Age  Gender\n",
      "0   Alice   25  Female\n",
      "1     Bob   30    Male\n",
      "2  Claire   27  Female\n"
     ]
    },
    {
     "data": {
      "text/html": [
       "<div>\n",
       "<style scoped>\n",
       "    .dataframe tbody tr th:only-of-type {\n",
       "        vertical-align: middle;\n",
       "    }\n",
       "\n",
       "    .dataframe tbody tr th {\n",
       "        vertical-align: top;\n",
       "    }\n",
       "\n",
       "    .dataframe thead th {\n",
       "        text-align: right;\n",
       "    }\n",
       "</style>\n",
       "<table border=\"1\" class=\"dataframe\">\n",
       "  <thead>\n",
       "    <tr style=\"text-align: right;\">\n",
       "      <th></th>\n",
       "      <th>Name</th>\n",
       "      <th>Age</th>\n",
       "      <th>Gender</th>\n",
       "    </tr>\n",
       "  </thead>\n",
       "  <tbody>\n",
       "    <tr>\n",
       "      <th>One</th>\n",
       "      <td>Alice</td>\n",
       "      <td>25</td>\n",
       "      <td>Female</td>\n",
       "    </tr>\n",
       "    <tr>\n",
       "      <th>Two</th>\n",
       "      <td>Bob</td>\n",
       "      <td>30</td>\n",
       "      <td>Male</td>\n",
       "    </tr>\n",
       "    <tr>\n",
       "      <th>Three</th>\n",
       "      <td>Claire</td>\n",
       "      <td>27</td>\n",
       "      <td>Female</td>\n",
       "    </tr>\n",
       "  </tbody>\n",
       "</table>\n",
       "</div>"
      ],
      "text/plain": [
       "         Name  Age  Gender\n",
       "One     Alice   25  Female\n",
       "Two       Bob   30    Male\n",
       "Three  Claire   27  Female"
      ]
     },
     "execution_count": 19,
     "metadata": {},
     "output_type": "execute_result"
    }
   ],
   "source": [
    "#df.head(): This function returns the first n rows of a DataFrame. \n",
    "'''For example, df.head(10) will return the first 10 rows of a DataFrame.'''\n",
    "\n",
    "#df.tail(): This function returns the last n rows of a DataFrame. \n",
    "'''For example, df.tail(10) will return the last 10 rows of a DataFrame.'''\n",
    "\n",
    "#df.describe(): This function provides summary statistics of a DataFrame's numeric columns, \n",
    "#including count, mean, standard deviation, minimum, and maximum values.\n",
    "\n",
    "#df.index(): This function returns the new indexs name of a DataFrame\n",
    "dic = {'Name': ['Alice', 'Bob', 'Claire'],\n",
    "        'Age': [25, 30, 27],\n",
    "        'Gender': ['Female', 'Male', 'Female']}\n",
    "s3 = pd.DataFrame(dic)\n",
    "print(s3)\n",
    "\n",
    "s3.index=['One','Two', 'Three']\n",
    "s3"
   ]
  },
  {
   "cell_type": "markdown",
   "id": "ad680d2d-e235-4fe6-a51e-c3e1280ab576",
   "metadata": {},
   "source": [
    "6. Which of the following is mutable in nature Series, DataFrame, Panel?"
   ]
  },
  {
   "cell_type": "markdown",
   "id": "93d5f450-ac2f-4999-a65a-46cd05ebbc1a",
   "metadata": {},
   "source": [
    "    DataFrames are both value and size-mutable.\n",
    "    A Series, by contrast, is only value-mutable, not size-mutable. The length of a Series cannot be changed    although the values can be changed.\n",
    "    In Panel Data and size are mutable."
   ]
  },
  {
   "cell_type": "markdown",
   "id": "50ba0a20-e030-4196-b52c-9e8cb8e4fb06",
   "metadata": {},
   "source": [
    "7. Create a DataFrame using multiple Series. Explain with an example."
   ]
  },
  {
   "cell_type": "code",
   "execution_count": 26,
   "id": "36cc7c35-35b1-488f-8c44-d00d7c5919ba",
   "metadata": {},
   "outputs": [
    {
     "data": {
      "text/html": [
       "<div>\n",
       "<style scoped>\n",
       "    .dataframe tbody tr th:only-of-type {\n",
       "        vertical-align: middle;\n",
       "    }\n",
       "\n",
       "    .dataframe tbody tr th {\n",
       "        vertical-align: top;\n",
       "    }\n",
       "\n",
       "    .dataframe thead th {\n",
       "        text-align: right;\n",
       "    }\n",
       "</style>\n",
       "<table border=\"1\" class=\"dataframe\">\n",
       "  <thead>\n",
       "    <tr style=\"text-align: right;\">\n",
       "      <th></th>\n",
       "      <th>0</th>\n",
       "      <th>1</th>\n",
       "      <th>2</th>\n",
       "      <th>3</th>\n",
       "    </tr>\n",
       "  </thead>\n",
       "  <tbody>\n",
       "    <tr>\n",
       "      <th>0</th>\n",
       "      <td>Madiha</td>\n",
       "      <td>Data Science</td>\n",
       "      <td>Masters</td>\n",
       "      <td>Previous</td>\n",
       "    </tr>\n",
       "    <tr>\n",
       "      <th>1</th>\n",
       "      <td>Fazal</td>\n",
       "      <td>Data Science</td>\n",
       "      <td>Masters</td>\n",
       "      <td>Previous</td>\n",
       "    </tr>\n",
       "    <tr>\n",
       "      <th>2</th>\n",
       "      <td>Umair</td>\n",
       "      <td>Statistics</td>\n",
       "      <td>Masters</td>\n",
       "      <td>Previous</td>\n",
       "    </tr>\n",
       "  </tbody>\n",
       "</table>\n",
       "</div>"
      ],
      "text/plain": [
       "        0             1        2         3\n",
       "0  Madiha  Data Science  Masters  Previous\n",
       "1   Fazal  Data Science  Masters  Previous\n",
       "2   Umair    Statistics  Masters  Previous"
      ]
     },
     "execution_count": 26,
     "metadata": {},
     "output_type": "execute_result"
    }
   ],
   "source": [
    "mr = pd.Series(['Madiha', 'Data Science', 'Masters', 'Previous'])\n",
    "fr = pd.Series(['Fazal', 'Data Science', 'Masters', 'Previous'])\n",
    "us = pd.Series(['Umair', 'Statistics', 'Masters', 'Previous'])\n",
    "s4 = pd.DataFrame([mr, fr, us])\n",
    "s4"
   ]
  }
 ],
 "metadata": {
  "kernelspec": {
   "display_name": "Python 3 (ipykernel)",
   "language": "python",
   "name": "python3"
  },
  "language_info": {
   "codemirror_mode": {
    "name": "ipython",
    "version": 3
   },
   "file_extension": ".py",
   "mimetype": "text/x-python",
   "name": "python",
   "nbconvert_exporter": "python",
   "pygments_lexer": "ipython3",
   "version": "3.10.8"
  }
 },
 "nbformat": 4,
 "nbformat_minor": 5
}
